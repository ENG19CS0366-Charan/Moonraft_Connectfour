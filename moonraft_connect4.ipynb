{
  "nbformat": 4,
  "nbformat_minor": 0,
  "metadata": {
    "colab": {
      "provenance": [],
      "include_colab_link": true
    },
    "kernelspec": {
      "name": "python3",
      "display_name": "Python 3"
    },
    "language_info": {
      "name": "python"
    }
  },
  "cells": [
    {
      "cell_type": "markdown",
      "metadata": {
        "id": "view-in-github",
        "colab_type": "text"
      },
      "source": [
        "<a href=\"https://colab.research.google.com/github/ENG19CS0366-Charan/Moonraft_Connectfour/blob/main/moonraft_connect4.ipynb\" target=\"_parent\"><img src=\"https://colab.research.google.com/assets/colab-badge.svg\" alt=\"Open In Colab\"/></a>"
      ]
    },
    {
      "cell_type": "code",
      "execution_count": null,
      "metadata": {
        "id": "ELJ-yhoyc0kO"
      },
      "outputs": [],
      "source": [
        "import numpy as np\n",
        "import matplotlib.pyplot as plt\n"
      ]
    },
    {
      "cell_type": "markdown",
      "source": [
        "define board"
      ],
      "metadata": {
        "id": "bYRIYG3Ic4hF"
      }
    },
    {
      "cell_type": "code",
      "source": [
        "nbrows=6\n",
        "nbcolumns=7\n",
        "M=np.zeros((nbrows,nbcolumns))\n",
        "\n",
        "#Print the board\n",
        "print(\"M.shape=\",M.shape)\n",
        "print(\"M\\n\",M)\n",
        "\n",
        "#Plot the sticks\n",
        "fig=plt.figure(1)\n",
        "plt.matshow(M,cmap='hot')\n",
        "plt.grid(which='both')\n",
        "plt.title(\"The board\")"
      ],
      "metadata": {
        "colab": {
          "base_uri": "https://localhost:8080/",
          "height": 642
        },
        "id": "lbiJIF0Ec1l1",
        "outputId": "c0a245da-f6da-46e0-bbd9-2a6de905967b"
      },
      "execution_count": null,
      "outputs": [
        {
          "output_type": "stream",
          "name": "stdout",
          "text": [
            "M.shape= (6, 7)\n",
            "M\n",
            " [[0. 0. 0. 0. 0. 0. 0.]\n",
            " [0. 0. 0. 0. 0. 0. 0.]\n",
            " [0. 0. 0. 0. 0. 0. 0.]\n",
            " [0. 0. 0. 0. 0. 0. 0.]\n",
            " [0. 0. 0. 0. 0. 0. 0.]\n",
            " [0. 0. 0. 0. 0. 0. 0.]]\n"
          ]
        },
        {
          "output_type": "execute_result",
          "data": {
            "text/plain": [
              "Text(0.5, 1.0, 'The board')"
            ]
          },
          "metadata": {},
          "execution_count": 28
        },
        {
          "output_type": "display_data",
          "data": {
            "text/plain": [
              "<Figure size 640x480 with 0 Axes>"
            ]
          },
          "metadata": {}
        },
        {
          "output_type": "display_data",
          "data": {
            "text/plain": [
              "<Figure size 560x480 with 1 Axes>"
            ],
            "image/png": "[encoded data removed]"
          },
          "metadata": {}
        }
      ]
    },
    {
      "cell_type": "code",
      "source": [
        "A = np.array([0,1,2,3,4,5,6])\n",
        "S =[]\n",
        "for i in range(0,nbrows*nbcolumns):\n",
        "    S.append(i)\n",
        "S=np.array(S)\n",
        "print(\"S.shape=\",S.shape)\n",
        "print(\"A.shape=\",A.shape)\n",
        "Q1=np.zeros((S.shape[0],A.shape[0]))\n",
        "Q2=np.zeros((S.shape[0],A.shape[0]))\n",
        "print(\"Q1.shape=\",Q1.shape)\n",
        "print(\"Q2.shape=\",Q2.shape)"
      ],
      "metadata": {
        "id": "HiVL5LZkc39h",
        "colab": {
          "base_uri": "https://localhost:8080/"
        },
        "outputId": "74d22732-434c-42ad-e542-eb62111e0320"
      },
      "execution_count": null,
      "outputs": [
        {
          "output_type": "stream",
          "name": "stdout",
          "text": [
            "S.shape= (42,)\n",
            "A.shape= (7,)\n",
            "Q1.shape= (42, 7)\n",
            "Q2.shape= (42, 7)\n"
          ]
        }
      ]
    },
    {
      "cell_type": "code",
      "source": [
        "def CreateBoardStates(nbrows,nbcolumns):\n",
        "\n",
        "    #boardstate is a list where all (x,y) are stored. The order is row major. It means that each line is concatainated.\n",
        "    boardstate=[]\n",
        "    count=0\n",
        "    for y in range(nbrows):\n",
        "        for x in range(nbcolumns):\n",
        "            boardstate.append((x,y))\n",
        "    return boardstate"
      ],
      "metadata": {
        "id": "1sbgiXLEGrHX"
      },
      "execution_count": null,
      "outputs": []
    },
    {
      "cell_type": "code",
      "source": [
        "boardstate=CreateBoardStates(nbrows,nbcolumns)\n",
        "print(\"len(boardstate)=\",len(boardstate))\n",
        "print(\"boardstate\\n\",boardstate[0:5])"
      ],
      "metadata": {
        "colab": {
          "base_uri": "https://localhost:8080/"
        },
        "id": "cQ3SC1spHF6l",
        "outputId": "5729e86a-2e8f-4118-998e-2d83f8228784"
      },
      "execution_count": null,
      "outputs": [
        {
          "output_type": "stream",
          "name": "stdout",
          "text": [
            "len(boardstate)= 42\n",
            "boardstate\n",
            " [(0, 0), (1, 0), (2, 0), (3, 0), (4, 0)]\n"
          ]
        }
      ]
    },
    {
      "cell_type": "markdown",
      "source": [
        "Let us define a function that can give the coordonnates (x,y) in function of the state"
      ],
      "metadata": {
        "id": "hthTlmrvHLti"
      }
    },
    {
      "cell_type": "code",
      "source": [
        "def getXYfromAgentState(agentstate,boardstate):\n",
        "    xy=boardstate[agentstate]\n",
        "    return xy"
      ],
      "metadata": {
        "id": "091TpDo8HH4T"
      },
      "execution_count": null,
      "outputs": []
    },
    {
      "cell_type": "code",
      "source": [
        "print(\"agentstate=0 so xy=\",getXYfromAgentState(0,boardstate))\n",
        "print(\"agentstate=1 so xy=\",getXYfromAgentState(1,boardstate))\n",
        "print(\"agentstate=2 so xy=\",getXYfromAgentState(2,boardstate))\n",
        "print(\"agentstate=3 so xy=\",getXYfromAgentState(3,boardstate))\n",
        "print(\"agentstate=4 so xy=\",getXYfromAgentState(4,boardstate))\n",
        "print(\"agentstate=5 so xy=\",getXYfromAgentState(5,boardstate))\n",
        "print(\"agentstate=6 so xy=\",getXYfromAgentState(6,boardstate))\n",
        "print(\"agentstate=7 so xy=\",getXYfromAgentState(7,boardstate))\n",
        "print(\"agentstate=8 so xy=\",getXYfromAgentState(8,boardstate))\n",
        "print(\"agentstate=35 so xy=\",getXYfromAgentState(35,boardstate))\n",
        "print(\"agentstate=41 so xy=\",getXYfromAgentState(41,boardstate))"
      ],
      "metadata": {
        "colab": {
          "base_uri": "https://localhost:8080/"
        },
        "id": "uVi23DIGHObt",
        "outputId": "626959a0-6d9d-41d4-fc62-f8e301b7077e"
      },
      "execution_count": null,
      "outputs": [
        {
          "output_type": "stream",
          "name": "stdout",
          "text": [
            "agentstate=0 so xy= (0, 0)\n",
            "agentstate=1 so xy= (1, 0)\n",
            "agentstate=2 so xy= (2, 0)\n",
            "agentstate=3 so xy= (3, 0)\n",
            "agentstate=4 so xy= (4, 0)\n",
            "agentstate=5 so xy= (5, 0)\n",
            "agentstate=6 so xy= (6, 0)\n",
            "agentstate=7 so xy= (0, 1)\n",
            "agentstate=8 so xy= (1, 1)\n",
            "agentstate=35 so xy= (0, 5)\n",
            "agentstate=41 so xy= (6, 5)\n"
          ]
        }
      ]
    },
    {
      "cell_type": "code",
      "source": [
        "def getAgentStateFromXY(x,y,boardstate):\n",
        "    return boardstate.index((x,y))"
      ],
      "metadata": {
        "id": "p66lRD-_HP_q"
      },
      "execution_count": null,
      "outputs": []
    },
    {
      "cell_type": "code",
      "source": [
        "print(\"agentstate=\",getAgentStateFromXY(0,0,boardstate) ,\"so xy=\",(0,0))\n",
        "print(\"agentstate=\",getAgentStateFromXY(1,0,boardstate) ,\"so xy=\",(1,0))\n",
        "print(\"agentstate=\",getAgentStateFromXY(2,0,boardstate) ,\"so xy=\",(2,0))\n",
        "print(\"agentstate=\",getAgentStateFromXY(3,0,boardstate) ,\"so xy=\",(3,0))\n",
        "print(\"agentstate=\",getAgentStateFromXY(4,0,boardstate) ,\"so xy=\",(4,0))\n",
        "print(\"agentstate=\",getAgentStateFromXY(5,0,boardstate) ,\"so xy=\",(5,0))\n",
        "print(\"agentstate=\",getAgentStateFromXY(6,0,boardstate) ,\"so xy=\",(6,0))\n",
        "print(\"agentstate=\",getAgentStateFromXY(0,1,boardstate) ,\"so xy=\",(0,1))\n",
        "print(\"agentstate=\",getAgentStateFromXY(1,1,boardstate) ,\"so xy=\",(1,1))\n",
        "print(\"agentstate=\",getAgentStateFromXY(6,5,boardstate) ,\"so xy=\",(6,5))"
      ],
      "metadata": {
        "colab": {
          "base_uri": "https://localhost:8080/"
        },
        "id": "PW3zvEGNHRzL",
        "outputId": "4b41768b-dc43-4a9a-f7be-1e492d0fba27"
      },
      "execution_count": null,
      "outputs": [
        {
          "output_type": "stream",
          "name": "stdout",
          "text": [
            "agentstate= 0 so xy= (0, 0)\n",
            "agentstate= 1 so xy= (1, 0)\n",
            "agentstate= 2 so xy= (2, 0)\n",
            "agentstate= 3 so xy= (3, 0)\n",
            "agentstate= 4 so xy= (4, 0)\n",
            "agentstate= 5 so xy= (5, 0)\n",
            "agentstate= 6 so xy= (6, 0)\n",
            "agentstate= 7 so xy= (0, 1)\n",
            "agentstate= 8 so xy= (1, 1)\n",
            "agentstate= 41 so xy= (6, 5)\n"
          ]
        }
      ]
    },
    {
      "cell_type": "markdown",
      "source": [
        "Get Board State from x,y"
      ],
      "metadata": {
        "id": "nbtXiNOkHsY8"
      }
    },
    {
      "cell_type": "code",
      "source": [
        "def getAgentStateFromXY(x,y,boardstate):\n",
        "    return boardstate.index((x,y))"
      ],
      "metadata": {
        "id": "Hef6EZQOHTIJ"
      },
      "execution_count": null,
      "outputs": []
    },
    {
      "cell_type": "code",
      "source": [
        "print(\"agentstate=\",getAgentStateFromXY(0,0,boardstate) ,\"so xy=\",(0,0))\n",
        "print(\"agentstate=\",getAgentStateFromXY(1,0,boardstate) ,\"so xy=\",(1,0))\n",
        "print(\"agentstate=\",getAgentStateFromXY(2,0,boardstate) ,\"so xy=\",(2,0))\n",
        "print(\"agentstate=\",getAgentStateFromXY(3,0,boardstate) ,\"so xy=\",(3,0))\n",
        "print(\"agentstate=\",getAgentStateFromXY(4,0,boardstate) ,\"so xy=\",(4,0))\n",
        "print(\"agentstate=\",getAgentStateFromXY(5,0,boardstate) ,\"so xy=\",(5,0))\n",
        "print(\"agentstate=\",getAgentStateFromXY(6,0,boardstate) ,\"so xy=\",(6,0))\n",
        "print(\"agentstate=\",getAgentStateFromXY(0,1,boardstate) ,\"so xy=\",(0,1))\n",
        "print(\"agentstate=\",getAgentStateFromXY(1,1,boardstate) ,\"so xy=\",(1,1))\n",
        "print(\"agentstate=\",getAgentStateFromXY(6,5,boardstate) ,\"so xy=\",(6,5))"
      ],
      "metadata": {
        "colab": {
          "base_uri": "https://localhost:8080/"
        },
        "id": "E2DHabPqHuUw",
        "outputId": "e691c961-f5f9-4c4c-a4e3-f0cdd397f286"
      },
      "execution_count": null,
      "outputs": [
        {
          "output_type": "stream",
          "name": "stdout",
          "text": [
            "agentstate= 0 so xy= (0, 0)\n",
            "agentstate= 1 so xy= (1, 0)\n",
            "agentstate= 2 so xy= (2, 0)\n",
            "agentstate= 3 so xy= (3, 0)\n",
            "agentstate= 4 so xy= (4, 0)\n",
            "agentstate= 5 so xy= (5, 0)\n",
            "agentstate= 6 so xy= (6, 0)\n",
            "agentstate= 7 so xy= (0, 1)\n",
            "agentstate= 8 so xy= (1, 1)\n",
            "agentstate= 41 so xy= (6, 5)\n"
          ]
        }
      ]
    },
    {
      "cell_type": "code",
      "source": [
        "#we simulate the gravity : the token is fallen to the board.\n",
        "def ComputeNewState(action,M,boardstate):\n",
        "    y=0\n",
        "    x=action\n",
        "\n",
        "    if M[y,x]!=0:\n",
        "        return -1,x,y\n",
        "\n",
        "    while y<M.shape[0] and M[y,x]==0:\n",
        "        y=y+1\n",
        "\n",
        "\n",
        "    if y>0:\n",
        "        y=y-1\n",
        "\n",
        "    newagentstate=getAgentStateFromXY(x,y,boardstate)\n",
        "    return newagentstate,x,y"
      ],
      "metadata": {
        "id": "5uIEOAtJHvzw"
      },
      "execution_count": null,
      "outputs": []
    },
    {
      "cell_type": "code",
      "source": [
        "M=np.zeros((nbrows,nbcolumns))\n",
        "print(M.shape)\n",
        "\n",
        "print(\"Let us place the tocken in the first column:\")\n",
        "newagentstate,x,y=ComputeNewState(0,M,boardstate)\n",
        "print(\"newagentstate,x,y\",newagentstate,x,y)\n",
        "M[y,x]=1\n",
        "\n",
        "\n",
        "\n",
        "#Plot the sticks\n",
        "fig=plt.figure(1)\n",
        "plt.matshow(M,cmap='gray')\n",
        "plt.grid(which='major')\n",
        "plt.title(\"The board\")\n",
        "\n",
        "print(\"Let us place the tocken in the first column:\")\n",
        "newagentstate,x,y=ComputeNewState(0,M,boardstate)\n",
        "print(\"newagentstate,x,y\",newagentstate,x,y)\n",
        "M[y,x]=1\n",
        "\n",
        "#Plot the sticks\n",
        "fig=plt.figure(2)\n",
        "plt.matshow(M,cmap='gray')\n",
        "plt.grid(which='both')\n",
        "plt.title(\"The board\")\n",
        "\n",
        "\n",
        "\n",
        "print(\"Let us place the tocken in the first column:\")\n",
        "newagentstate,x,y=ComputeNewState(0,M,boardstate)\n",
        "print(\"newagentstate,x,y\",newagentstate,x,y)\n",
        "M[y,x]=1\n",
        "\n",
        "#Plot the sticks\n",
        "fig=plt.figure(2)\n",
        "plt.matshow(M,cmap='gray')\n",
        "plt.grid(which='both')\n",
        "plt.title(\"The board\")\n",
        "\n",
        "\n",
        "\n",
        "print(\"Let us place the tocken in the first column:\")\n",
        "newagentstate,x,y=ComputeNewState(0,M,boardstate)\n",
        "print(\"newagentstate,x,y\",newagentstate,x,y)\n",
        "M[y,x]=1\n",
        "\n",
        "#Plot the sticks\n",
        "fig=plt.figure(2)\n",
        "plt.matshow(M,cmap='gray')\n",
        "plt.grid(which='both')\n",
        "plt.title(\"The board\")\n",
        "\n",
        "\n",
        "print(\"Let us place the tocken in the first column:\")\n",
        "newagentstate,x,y=ComputeNewState(0,M,boardstate)\n",
        "print(\"newagentstate,x,y\",newagentstate,x,y)\n",
        "M[y,x]=1\n",
        "\n",
        "#Plot the sticks\n",
        "fig=plt.figure(2)\n",
        "plt.matshow(M,cmap='gray')\n",
        "plt.grid(which='both')\n",
        "plt.title(\"The board\")\n",
        "\n",
        "\n",
        "print(\"Let us place the tocken in the first column:\")\n",
        "newagentstate,x,y=ComputeNewState(0,M,boardstate)\n",
        "print(\"newagentstate,x,y\",newagentstate,x,y)\n",
        "M[y,x]=1\n",
        "\n",
        "#Plot the sticks\n",
        "fig=plt.figure(2)\n",
        "plt.matshow(M,cmap='gray')\n",
        "plt.grid(which='both')\n",
        "plt.title(\"The board\")"
      ],
      "metadata": {
        "colab": {
          "base_uri": "https://localhost:8080/",
          "height": 1000
        },
        "id": "rzZjZLE9HyWy",
        "outputId": "ff0fd0e8-385e-495b-8f0a-3c8e3648673f"
      },
      "execution_count": null,
      "outputs": [
        {
          "output_type": "stream",
          "name": "stdout",
          "text": [
            "(6, 7)\n",
            "Let us place the tocken in the first column:\n",
            "newagentstate,x,y 35 0 5\n",
            "Let us place the tocken in the first column:\n",
            "newagentstate,x,y 28 0 4\n",
            "Let us place the tocken in the first column:\n",
            "newagentstate,x,y 21 0 3\n",
            "Let us place the tocken in the first column:\n",
            "newagentstate,x,y 14 0 2\n",
            "Let us place the tocken in the first column:\n",
            "newagentstate,x,y 7 0 1\n",
            "Let us place the tocken in the first column:\n",
            "newagentstate,x,y 0 0 0\n"
          ]
        },
        {
          "output_type": "execute_result",
          "data": {
            "text/plain": [
              "Text(0.5, 1.0, 'The board')"
            ]
          },
          "metadata": {},
          "execution_count": 21
        },
        {
          "output_type": "display_data",
          "data": {
            "text/plain": [
              "<Figure size 640x480 with 0 Axes>"
            ]
          },
          "metadata": {}
        },
        {
          "output_type": "display_data",
          "data": {
            "text/plain": [
              "<Figure size 560x480 with 1 Axes>"
            ],
            "image/png": "[encoded data removed]"
          },
          "metadata": {}
        },
        {
          "output_type": "display_data",
          "data": {
            "text/plain": [
              "<Figure size 560x480 with 1 Axes>"
            ],
            "image/png": "[encoded data removed]"
          },
          "metadata": {}
        },
        {
          "output_type": "display_data",
          "data": {
            "text/plain": [
              "<Figure size 560x480 with 1 Axes>"
            ],
            "image/png": "[encoded data removed]"
          },
          "metadata": {}
        },
        {
          "output_type": "display_data",
          "data": {
            "text/plain": [
              "<Figure size 560x480 with 1 Axes>"
            ],
            "image/png": "[encoded data removed]"
          },
          "metadata": {}
        },
        {
          "output_type": "display_data",
          "data": {
            "text/plain": [
              "<Figure size 560x480 with 1 Axes>"
            ],
            "image/png": "[encoded data removed]"
          },
          "metadata": {}
        },
        {
          "output_type": "display_data",
          "data": {
            "text/plain": [
              "<Figure size 560x480 with 1 Axes>"
            ],
            "image/png": "[encoded data removed]"
          },
          "metadata": {}
        }
      ]
    },
    {
      "cell_type": "markdown",
      "source": [
        "Check if a board represents a winning game"
      ],
      "metadata": {
        "id": "hkiXp4o7JZ5q"
      }
    },
    {
      "cell_type": "code",
      "source": [
        "def Checkforoneplayer(M,idplayer):\n",
        "    COLUMN_COUNT=M.shape[1]\n",
        "    ROW_COUNT=M.shape[0]\n",
        "\n",
        "    # Check horizontal locations for win\n",
        "    for c in range(COLUMN_COUNT-3):\n",
        "        for r in range(ROW_COUNT):\n",
        "            if M[r][c] == idplayer and M[r][c+1] == idplayer and M[r][c+2] == idplayer and M[r][c+3] == idplayer:\n",
        "                return True\n",
        "\n",
        "    # Check vertical locations for win\n",
        "    for c in range(COLUMN_COUNT):\n",
        "        for r in range(ROW_COUNT-3):\n",
        "            if M[r][c] == idplayer and M[r+1][c] == idplayer and M[r+2][c] == idplayer and M[r+3][c] == idplayer:\n",
        "                return True\n",
        "\n",
        "    # Check positively sloped diaganols\n",
        "    for c in range(COLUMN_COUNT-3):\n",
        "        for r in range(ROW_COUNT-3):\n",
        "            if M[r][c] == idplayer and M[r+1][c+1] == idplayer and M[r+2][c+2] == idplayer and M[r+3][c+3] == idplayer:\n",
        "                return True\n",
        "\n",
        "    # Check negatively sloped diaganols\n",
        "    for c in range(COLUMN_COUNT-3):\n",
        "        for r in range(3, ROW_COUNT):\n",
        "            if M[r][c] == idplayer and M[r-1][c+1] == idplayer and M[r-2][c+2] == idplayer and M[r-3][c+3] == idplayer:\n",
        "                return True\n",
        "\n",
        "\n",
        "    return False\n",
        "\n",
        "def CheckIfWinningGame(M,idplayer):\n",
        "\n",
        "    winner=False\n",
        "    #Checking for player one\n",
        "    winnerid=Checkforoneplayer(M,idplayer)\n",
        "\n",
        "    return winnerid\n",
        "M=np.zeros((nbrows,nbcolumns))\n",
        "\n",
        "M[0,1]=1\n",
        "M[1,0]=0\n",
        "M[2,0]=0\n",
        "M[2,3]=1\n",
        "M[1,2]=1\n",
        "M[3,0]=0\n",
        "M[3,4]=1\n",
        "print(M)\n",
        "print(\"And player one wins=\",CheckIfWinningGame(M,1))\n",
        "print(\"And player two wins=\",CheckIfWinningGame(M,2))\n"
      ],
      "metadata": {
        "colab": {
          "base_uri": "https://localhost:8080/"
        },
        "id": "cv0pYuLPH2Lo",
        "outputId": "87c65da4-e185-4af8-90c3-c396a3a51f21"
      },
      "execution_count": null,
      "outputs": [
        {
          "output_type": "stream",
          "name": "stdout",
          "text": [
            "[[0. 1. 0. 0. 0. 0. 0.]\n",
            " [0. 0. 1. 0. 0. 0. 0.]\n",
            " [0. 0. 0. 1. 0. 0. 0.]\n",
            " [0. 0. 0. 0. 1. 0. 0.]\n",
            " [0. 0. 0. 0. 0. 0. 0.]\n",
            " [0. 0. 0. 0. 0. 0. 0.]]\n",
            "And player one wins= True\n",
            "And player two wins= False\n"
          ]
        }
      ]
    },
    {
      "cell_type": "markdown",
      "source": [
        "Step in the board\n",
        "The function allows to take an action in the game"
      ],
      "metadata": {
        "id": "3kFyWk0FJgj9"
      }
    },
    {
      "cell_type": "code",
      "source": [
        "def step(action,agentstate,M,playerid,boardstate):\n",
        "    # Let's take action\n",
        "    done=False\n",
        "    reward=0\n",
        "    newagentstate,xnew,ynew=ComputeNewState(action,M,boardstate)\n",
        "\n",
        "    #We check if we could move or not to a new state\n",
        "    #is there any room for a token\n",
        "    if newagentstate==-1:\n",
        "        done=True\n",
        "        reward=-1\n",
        "        return agentstate,reward,done\n",
        "\n",
        "    #we place the token to the new empty slot\n",
        "    M[ynew,xnew]=playerid\n",
        "\n",
        "    win=False\n",
        "    win=CheckIfWinningGame(M,playerid)\n",
        "\n",
        "    if win==True:\n",
        "        reward=1\n",
        "        done=True\n",
        "\n",
        "\n",
        "\n",
        "    return newagentstate,reward,done"
      ],
      "metadata": {
        "id": "1xaHkTwhJc9B"
      },
      "execution_count": null,
      "outputs": []
    },
    {
      "cell_type": "code",
      "source": [
        "M=np.zeros((nbrows,nbcolumns))\n",
        "print(step(0,0,M,1,boardstate) )\n",
        "print(M)\n",
        "print(step(0,35,M,1,boardstate) )\n",
        "print(M)"
      ],
      "metadata": {
        "colab": {
          "base_uri": "https://localhost:8080/"
        },
        "id": "p4Y8wmPnJjvV",
        "outputId": "4b162da8-ad96-4bb6-f343-978e878f992c"
      },
      "execution_count": null,
      "outputs": [
        {
          "output_type": "stream",
          "name": "stdout",
          "text": [
            "(35, 0, False)\n",
            "[[0. 0. 0. 0. 0. 0. 0.]\n",
            " [0. 0. 0. 0. 0. 0. 0.]\n",
            " [0. 0. 0. 0. 0. 0. 0.]\n",
            " [0. 0. 0. 0. 0. 0. 0.]\n",
            " [0. 0. 0. 0. 0. 0. 0.]\n",
            " [1. 0. 0. 0. 0. 0. 0.]]\n",
            "(28, 0, False)\n",
            "[[0. 0. 0. 0. 0. 0. 0.]\n",
            " [0. 0. 0. 0. 0. 0. 0.]\n",
            " [0. 0. 0. 0. 0. 0. 0.]\n",
            " [0. 0. 0. 0. 0. 0. 0.]\n",
            " [1. 0. 0. 0. 0. 0. 0.]\n",
            " [1. 0. 0. 0. 0. 0. 0.]]\n"
          ]
        }
      ]
    },
    {
      "cell_type": "markdown",
      "source": [
        "Let's move randomly in the board\n",
        "###This is equivalent to  ϵ=1 in the epsilon greedy policy"
      ],
      "metadata": {
        "id": "DUhsaHAvJqtn"
      }
    },
    {
      "cell_type": "code",
      "source": [
        "M=np.zeros((nbrows,nbcolumns))\n",
        "\n",
        "fig = plt.figure() # just for display\n",
        "\n",
        "state=0 #initial state of the agent\n",
        "done=False\n",
        "listimages=[] # just for display : store images\n",
        "stepcounter=0\n",
        "idplayer=1\n",
        "while done != True: # Move until we reach the end of the game\n",
        "    action = np.random.choice(A) # Choose a random action\n",
        "    newtstate,reward,end=step(action,state,M,idplayer,boardstate) # Move according to the move\n",
        "    state=newtstate # update state\n",
        "    done=end # update are we done or not ?\n",
        "    stepcounter=stepcounter+1\n",
        "    print(action,state,newtstate,end) # print\n",
        "    im = plt.imshow(M, animated=True,cmap='gray') # display board\n",
        "    plt.grid(which='both')\n",
        "    listimages.append([im]) # display maze and agent\n",
        "    idplayer=idplayer+1\n",
        "    if idplayer==3:\n",
        "        idplayer=1"
      ],
      "metadata": {
        "colab": {
          "base_uri": "https://localhost:8080/",
          "height": 795
        },
        "id": "5lmMKdwoJlhA",
        "outputId": "95e0b880-1792-4276-ca95-b30b82e46e71"
      },
      "execution_count": null,
      "outputs": [
        {
          "output_type": "stream",
          "name": "stdout",
          "text": [
            "6 41 41 False\n",
            "1 36 36 False\n",
            "6 34 34 False\n",
            "3 38 38 False\n",
            "2 37 37 False\n",
            "4 39 39 False\n",
            "4 32 32 False\n",
            "4 25 25 False\n",
            "5 40 40 False\n",
            "1 29 29 False\n",
            "1 22 22 False\n",
            "0 35 35 False\n",
            "1 15 15 False\n",
            "3 31 31 False\n",
            "6 27 27 False\n",
            "5 33 33 False\n",
            "5 26 26 False\n",
            "3 24 24 False\n",
            "1 8 8 False\n",
            "3 17 17 True\n"
          ]
        },
        {
          "output_type": "display_data",
          "data": {
            "text/plain": [
              "<Figure size 640x480 with 1 Axes>"
            ],
            "image/png": "[encoded data removed]"
          },
          "metadata": {}
        }
      ]
    },
    {
      "cell_type": "code",
      "source": [
        "from matplotlib import animation, rc\n",
        "from IPython.display import HTML\n",
        "\n",
        "ani = animation.ArtistAnimation(fig, listimages, interval=2000, blit=True,\n",
        "                                repeat_delay=100)\n",
        "\n",
        "\n",
        "ani.save('RandomConnect4.mp4')\n",
        "\n",
        "plt.show()\n",
        "HTML(ani.to_html5_video())"
      ],
      "metadata": {
        "colab": {
          "base_uri": "https://localhost:8080/",
          "height": 501
        },
        "id": "sxu5t8QKJwQN",
        "outputId": "9ad37b71-6bf8-4298-9a70-bf4e6aef6f5e"
      },
      "execution_count": null,
      "outputs": [
        {
          "output_type": "execute_result",
          "data": {
            "text/plain": [
              "<IPython.core.display.HTML object>"
            ],
            "text/html": [
              "<video width=\"640\" height=\"480\" controls autoplay loop>\n",
              "  <source type=\"video/mp4\" src=\"data:video/mp4;base64,AAAAIGZ0eXBNNFYgAAACAE00ViBpc29taXNvMmF2YzEAAAAIZnJlZQAAFYdtZGF0AAACrQYF//+p\n",
              "3EXpvebZSLeWLNgg2SPu73gyNjQgLSBjb3JlIDE2MyByMzA2MCA1ZGI2YWE2IC0gSC4yNjQvTVBF\n",
              "Ry00IEFWQyBjb2RlYyAtIENvcHlsZWZ0IDIwMDMtMjAyMSAtIGh0dHA6Ly93d3cudmlkZW9sYW4u\n",
              "b3JnL3gyNjQuaHRtbCAtIG9wdGlvbnM6IGNhYmFjPTEgcmVmPTMgZGVibG9jaz0xOjA6MCBhbmFs\n",
              "eXNlPTB4MzoweDExMyBtZT1oZXggc3VibWU9NyBwc3k9MSBwc3lfcmQ9MS4wMDowLjAwIG1peGVk\n",
              "X3JlZj0xIG1lX3JhbmdlPTE2IGNocm9tYV9tZT0xIHRyZWxsaXM9MSA4eDhkY3Q9MSBjcW09MCBk\n",
              "ZWFkem9uZT0yMSwxMSBmYXN0X3Bza2lwPTEgY2hyb21hX3FwX29mZnNldD0tMiB0aHJlYWRzPTMg\n",
              "bG9va2FoZWFkX3RocmVhZHM9MSBzbGljZWRfdGhyZWFkcz0wIG5yPTAgZGVjaW1hdGU9MSBpbnRl\n",
              "cmxhY2VkPTAgYmx1cmF5X2NvbXBhdD0wIGNvbnN0cmFpbmVkX2ludHJhPTAgYmZyYW1lcz0zIGJf\n",
              "cHlyYW1pZD0yIGJfYWRhcHQ9MSBiX2JpYXM9MCBkaXJlY3Q9MSB3ZWlnaHRiPTEgb3Blbl9nb3A9\n",
              "MCB3ZWlnaHRwPTIga2V5aW50PTI1MCBrZXlpbnRfbWluPTEgc2NlbmVjdXQ9NDAgaW50cmFfcmVm\n",
              "cmVzaD0wIHJjX2xvb2thaGVhZD00MCByYz1jcmYgbWJ0cmVlPTEgY3JmPTIzLjAgcWNvbXA9MC42\n",
              "MCBxcG1pbj0wIHFwbWF4PTY5IHFwc3RlcD00IGlwX3JhdGlvPTEuNDAgYXE9MToxLjAwAIAAAAiC\n",
              "ZYiEABf//vfUt8yy7VNvtguo96KeJl9DdSUBm5bE7TqAAAADAAADAAAevBc4Al+JCvOvAAADAMqA\n",
              "F+q//wpjj4sDKHM6ePwY1SAwbTW/vllocqdkEwi+OALtcuv8ywWlE5I+nZUdHN7om9lrX/P2istU\n",
              "AepzSmJlC3Obt2vhv/aByOsV+OWhAAV1OMt0qurPghPZoY1V8CanIvsexBzc800bJ4JIepNfmriq\n",
              "TgyZgfkSFV6VwBj4/fWjsnZg792geA4nS4iLo3HSLjF//Kk8MTGbL7Dt+Z+HB//9HzKakxAopZO1\n",
              "ue3Pd3MlZk/A5tkibrhQReS2XdV/iPTr+eYSyJCuZIhaLu1Njsw3mhp5qGBKNRz3kV6+1LUa4mRU\n",
              "ks0bK/EDEJQpvHJi9D5QyFsU4p2sYbw3HOJea29h+YQ8wzD6upyMgZI8FQ6vAfWE/m7TkRfxjVSj\n",
              "Ti8Lajpk9AFAJFr0Zp3fMI66infWK8vOqtewk6SVrVPXb7vMh+LBgtKDlu/5JPkLyYkpoKE5qb2a\n",
              "WMV7VjJ+W7CyS+0IyFOebuvsZu6xCg7BdcGJPOnwh/ecBSJzJcicp/lo5f+02rGPN6DypTgXhfsQ\n",
              "qjQsbpFe/DyY/harhyAr7c0WruobQQ1+Yl92ssdp9SHMs53Q1yQBsjrF9AypzzFutwE7z/5m7hca\n",
              "B5Zw7qKfbuUI0wQPIdvZXBUappzVgx7Pztg6kB99i+ii5k2e2QqYTQ78pq7FfGS1WKOhr9cH/lWq\n",
              "oFFLE26RVYHN0ujfr88MDr7tb1358JUp7UWkZ849278jI3DMoRcpzODZDQgZtCDqmcgSlJblqnzy\n",
              "lrVkfTjqXl3bIcOustVp5YJZGGxncjGx6PWVoJ7wU4lTVv2DsMh4EMs3ZT1eNUtCKGitYn9hEPGO\n",
              "Pk7y3JwJVhheh0y3k7SSliQ4+AIZwPDCcI0yBRI9483fS89b/snjqnnHP7Yn6KFLSFEN9Uq83uP6\n",
              "adQTuHjmRyCxcKTJlRQ2qTb79x93NxwqF33nfSFaA+y6F9CHvJLOj6GkYrTIAALePdYez60vk6vD\n",
              "I2ptKMWNb0TXZj00Z+qZLuJ17NASyAeCAX32jGR/I8Hm2QxhOTC8KTZKjIIGo2yslOCKZ/dyretn\n",
              "OneI0WcdqDEa4cy8ZK89oo69nx9hG9pQo5oTCYBX4caXvc+/GXfzY+O//6wX/6QRKkzVuqwjhTYY\n",
              "Mpxpwr7ca5vNZ+2OD82WJWyapMiDu6lRwL2zS+9xQF7VrLpKSLkQ4PRdhSWQUGFRa/LOku89mQJp\n",
              "gDwFsoO6flAPQ/XI2BIpfQcmQ2eloNP+T6cIqC0CB9LqxNHzGxnBlo72vWoUxcVxfdDJSNrC/U8u\n",
              "oNBzLtFfVUOEUejzpYY3V63Nx20DEK7NQfVCgCweedDta+6LOoSuUsGkXyMqoT0iZ/8kB1jSHVMm\n",
              "VhwoHTCoLiqVV7/NgR5xxXO8H3FAXBAsEhq8LOACjAoP32UbiYrdGv/3QGzQS5Uc3WueMx1aLLBM\n",
              "LfdfL7r6sDQWv5jcRbnvirRbhsJmfDeOYnjQj9Xn2KeYgLqnf/2aSYtFrEQuE3AwqUAiTTVFkGQv\n",
              "YARmsUD/pncVbb73FW/qATo8Feeo0OCEA7zhxl+HhGoCD1m4JWNGe66iXHEGIEArxscy0Gb43lRt\n",
              "BPsDJzJ206P6y5OWVhG7IaUgpOFixGL8nKHLsOH1rcH6sNCdagxDxHR33qUqYH6Awij1BEZqPWde\n",
              "Y9yxAueTLX5cqNC2yDcR063WT46emm8aBssA6qP65xQwYGsoJdqNPh3v8iN0l8fgiWtMvIcwJ2Qr\n",
              "1oUGOY1sTpQRsDIw3bkn5vF2x8RhHOkQeMBzI6NG5oxfywPTUUuqEId4b3h1KqcNISscXHU71o14\n",
              "3JIo9nlEARRcWdIXVlvyyG2Z3vMWKhpQMQrKIKmL+hIOj5900hRTZAj6sN/9NEEROrCPVA4VzHHF\n",
              "AB+nxgpxliCXhKLxFYh047dqP6DZefLJqi1DnP6mIBlbaALyP5HcQXqRnqIw673kpGx8Wr6txakc\n",
              "c7lG0nC8eOHop8HfUCA0fCm0mWBqv4zhHUAjVQukdr00OmOEHCiTkgCzbWwBZ3DVlJiBrskjNc59\n",
              "foy88aCsCxsfDFJULwuqVUnCGLucMs42eVNz6pHv5W4oQy7kqMx9hPHoiGZnkXQKZi/+GuHSWwjq\n",
              "vhmCg/CRQ783+c9LJYS9As6mJG0l6kHJH9xtC4MFK4yR3PY+8ibon7Z8b9f7nhK/FIzyIkXu39Ph\n",
              "FQIzQi07U45WP8Q6f5xE2yL6o1f/pVx40mgLIy/GmAj/7LTKrBVDRgH8dWrVSn5xNVEjVqiO4FaU\n",
              "iqCTsJmG4j4j41ar/Bf+Ss8smKeA/C6ecS/hMt290w2zPmim0eaSCJ66XTfpjyB+n6MU6BBWpuQt\n",
              "aQp02aJtHUBWmQ5PFcZmwHxuwIENMiC7QlI7/MvpEEFtCaz14irIghOPFFNNxR1k1620L4g2aV9N\n",
              "heSpx6oNGIQMjOifsh6cLmve5QOCMX1MUcNs6+PotBkmO8YqAl386hpanvROr0D2Z/h1DXsvw7bw\n",
              "eZyqrAZeXXldPFJ91cueP8J7eXsOr7/Rxl+qfCW69DCLKR1o27yk/5/cHdAlAXMW1As7PIvI1NOK\n",
              "S8S8tOER9IHexMWefmwDmcFK4D2mbtY719biZJ8HVTX9+ONbjgMIiLRKpCG2cMl4XJWzfnD1AwFd\n",
              "74637EIgiimYuy0aZRnGnSs+gP3tJEd/w3ebBFZLzV6JHZNRcM5WKtRbt69JT+zEOYC17bT19hWJ\n",
              "6NVImn/mCrV0oZPQ9F9weUhwEYX/wV5TeuE7JcxD0F22XKRDDWUarMm/1exYV9rkkTiYc97mTiwu\n",
              "WeECVISb46rwAAOLAAABBUGaIWxBf/7aplgAB0oV3qBVahqID6FgAAfCZ8kG9mpj7/DxrZfmtOEi\n",
              "8a8v4UXE0kP1SyLdc5nOSH+m1vrPnk87ZmwEXa2HvbmIjLjYVay7uEhdl8PCOIhpPkCSwovbl71D\n",
              "QhFpfSbrSf/t4YTiqp3anNcliz8GSbU4UPnn5MakIpx7XZdqKvrgYPCuBQEUQAHMAEvEb0j58H34\n",
              "WP5BBPQ1kVe4T6CpiOO1PeYi6QPSdHfXM+RQahx1Sr0ThHOV/t58A/DVGQWj36lstks2YftPb1iH\n",
              "e32dcufAAFsht2hdJ6aUnCoaavCm02Tu6tx3Qjad2UDnrmpqzMZ3Xau5IUKUHAq7gAAAANVBmkM8\n",
              "IZMphBf//tqmWAAAAwAAajnWvg53ygWJsM1Or0+FqlAFsTXt+2TMKXQAdnOQSzdnync6JVhEn/ht\n",
              "si/SGqCPRWaDcz3ha7qP4bQWbZZUTxtHoyfTSyDEf6S2HLa1Pk0mdphTIGrFEpXoPqKEulTzQe0g\n",
              "pzVWe3doIwN2mcOApmFxtaV5To5afBqLwpMqnZdEYfweDSs+C+HNot/OOU8/oAIlS4z2UPbPmmGS\n",
              "WywZvA7JKgiws7MymHbPJKvPJmLbE/pdclZ9geTi8X2faHK+4BEAAAAsAZ5iakFfAAADAAADAEck\n",
              "V4QLuo7jdqYNgvATAfH1kH5wHoRWXMmQ9jG21cQAAAEvQZpmSeEPJlMCC//+2qZYAAADAACA9CYG\n",
              "vnPHqAL2gR/wNLplQiRZcfYMgwD0IGN7hnLKk7ha/xy3SFcDf1w3hJCLxHuwFRcIgoEECgFHaPVM\n",
              "Jr5jVGVYr1ENjsPIXH2QUvRaNBagi3izH25XY7Kf/yEuCBRaE/VYqmqeCB5144c2kAoUhlscPF/2\n",
              "qKF30uwT2yDS25WWd7MY+FtCfi1qCmmwoWvq8+iYchz6HspoxfeUYp/WQlmG+/78Y5aAYJvAAt4S\n",
              "AcWpxUuUKLFuO3ydoVO9SKw30EW1BGJcY9i3xW3VRuKerpRC4/ESR0DIUYkYoWby/8RVqq/UEdX3\n",
              "RtVnOUiMfHISBok3HbOd7YNjQ/kyeAuDN55y/TpO9oMi5TrvIwnYPwO9YhWrq5uuoNvvAAAAR0Ge\n",
              "hEURPBX/AAADAAADAFhQoqYmE86T8jvDpW8GAx0VC5XSAQmQAIFPEFJB/3/3d37s7HNb0l50gpHn\n",
              "c48tVQeLGSjLHM97AAAASAGepWpBXwAAAwAAAwBYUKKmJhPOk/I7w6VvBf+txtdEyg0fycl+2w4m\n",
              "ADx3iEAs/+/3dco1hTh9UZ426Y5QGzVgKPnOv1C5mQAAAV9BmqpJqEFomUwIL//+2qZYAAADACqc\n",
              "l+4E9h8QBx8xHmAsTUd3JHulnM+hmQPcHzmOAq+2+BVRiYgmmrf652JJd/9Zdgq2vGRD4Q7qkGGj\n",
              "svAm4tMLgMB/MpFGlq7FmhzMmMVuuAY/03EcD1oxaQoE/Q6njwTfbVNX7xqpAUFD69Jti6EUYeXb\n",
              "b8wpdIbqccTmZk9pRD8Lpa4EPzAzEH9MXVk8BO01afW2ix/o1GZB3Dhk8qWAkwALM+MBrwqwI29u\n",
              "ShD9kvNHY72A4tLgsPbawuqWGtSfIg/brrB9idBneQS8qlC86/31U7tUejEuaI1GDztiYQJiYqN9\n",
              "h8eW3+rfARFTOdYtKWTPPV1KqtU5JhcWlwVRh32LjZ1X98ZilBjRxdndukfy4DcbqAzZSUQqNaQM\n",
              "pm3uzIKYkVkOWSHvc7qme4XlGUmmrWzg/EM0Hc2ae09REFwylApelA4A+YEAAAA9QZ7IRREsFv8A\n",
              "AAMAABJFtR5j4z2nazBWZHzkXwZ15AiSFC/kR8oTWccWLcBEsOUPfH9bK3LuMwNStRbHgAAAACwB\n",
              "nud0QV8AAAMAABTzVvFuzg5+V/iDpdC4mMHk1XsUmQ/gNZN+4Sa83bAugAAAAC4BnulqQV8AAAMA\n",
              "ABw7Y/RvhUDx/I7w6VvBgARDQAlG3UIEyDONJe44UIlpc0GfAAABQkGa7kmoQWyZTAgv//7aplgA\n",
              "AAoJutbezvlAsTysiBxRM+K9gavcYbbzh8Dtv0eNImWW5HNcOvUjtqHYo6CN3wsU4szAc2WIAN+K\n",
              "MutJf4dtFLCKxFkBmX7NEPmKh1mBpO32vj5QGQjqs/dei3Ol/yvm4N5r/+AfDKCLK9rpGkeDs2ga\n",
              "iVsGQkjUNvszlVTtTRZqLAaBEzZGsYmaJHfOOkBd8H4+65oKJbfpm8NMMcR0QFVzpponlDZ9S1Iu\n",
              "fMrQteRdx3xW9ML3gNorVNSa6p5jFzaOid1a4KrT+z8w8KyZu8k5gXNfC5ne5VwLCAFRhmkgpTRo\n",
              "QuoYHXJOG2AlEtRqY5VqAWgZVCDeTLMvYI3j5tRSCou6rpy7u+D6Cgd/9BWtA6aWnEZPZKAxNZsv\n",
              "034WtnGwPEQqST1/MhrJrducB8wAAABoQZ8MRRUsFv8AAAMABFFIPXSrYCd6Gud12OC6d3s4I6mm\n",
              "upKX2T5+7yiAABZ/KNN6b1VJsZaAB/IdohXKnCM53NuU/+/7inrW8/QnU/GrJBEtxY6y5cHhxf0b\n",
              "GkVDsDgK4FPGyrhkEvAAAAA2AZ8rdEFfAAADAAa60fnveoZIrIGOmed45YSS99RWCMWGoZ2Idzp5\n",
              "IhVLzvcUk0ov8CxvvoUFAAAAOwGfLWpBXwAAAwAAEMntW8mE86zEdrsmVy1aGSnRhor3YlRO2Qhb\n",
              "N8KFTqAgqT+Sp3O683Yiva5pJJ2BAAAA3UGbMkmoQWyZTAgt//7WpVAAAmD2srUSbfLYNORPrgAi\n",
              "r8vi/OGBrZ2GQNnHzDgBfpbPCDoTgjtebYBYALtkPqsMAzwn92PP8vpki6mf+Ad4x5zxG8qrls9M\n",
              "NSsCXWodZ/TdrmuEXyxNbdhcwLTnyL40rLNGyqcGDtagBgEVazNWcD+AVdlLRNFeUlHiWb1Ad7wl\n",
              "1jGZSUwtufwOBKPdvGvl91g61ekkHf9orbyKWNFdrYC1xgXfxSETy0HfmWVPiKjxdDt9yc2rY3TA\n",
              "DTU0iD480MgayIyCNXpE8BWVAAAAc0GfUEUVLBb/AAADAQRbUeY+M9p2r95V3LOR6YeFhAqoSxAA\n",
              "LfTjQACFvzqRA1TKQdytDTpsED/eRQfWQJ99eI0c9+E0Z/bh0fpCVLLTwp5/OfQObddfDGgVxheb\n",
              "IiG26hNcfsv4ET3ZGJPk0v1jI0iJhJwAAAA0AZ9vdEFfAAADAAASydFSJfesUrIGOmed45YSqXqA\n",
              "7Mc/owlyAs3hd4vrLzYymqXH4WUDPgAAADsBn3FqQV8AAAMBmraKmJhPOk/I7w6VvBgARDGxTYTm\n",
              "p+vThkufwavkyUSGyvb++q8PE9YcOc9/GbgNSQAAAGhBm3NJqEFsmUwIK//+1qVQAAAIA9rLP6k8\n",
              "gPnHBLUG+ln/sBABzmUG/8M+ZO35VrhBvXh5jd91/9Kl3+rvfdYHyLQ5NeIZ4bI4A/vW6ddj3Qve\n",
              "/kcnh4Z+AcwkNfEbPTeE7FRhxAEM+AAABBJtb292AAAAbG12aGQAAAAAAAAAAAAAAAAAAAPoAACc\n",
              "QAABAAABAAAAAAAAAAAAAAAAAQAAAAAAAAAAAAAAAAAAAAEAAAAAAAAAAAAAAAAAAEAAAAAAAAAA\n",
              "AAAAAAAAAAAAAAAAAAAAAAAAAAAAAAACAAADPHRyYWsAAABcdGtoZAAAAAMAAAAAAAAAAAAAAAEA\n",
              "AAAAAACcQAAAAAAAAAAAAAAAAAAAAAAAAQAAAAAAAAAAAAAAAAAAAAEAAAAAAAAAAAAAAAAAAEAA\n",
              "AAACgAAAAeAAAAAAACRlZHRzAAAAHGVsc3QAAAAAAAAAAQAAnEAAAQAAAAEAAAAAArRtZGlhAAAA\n",
              "IG1kaGQAAAAAAAAAAAAAAAAAAEAAAAoAAFXEAAAAAAAtaGRscgAAAAAAAAAAdmlkZQAAAAAAAAAA\n",
              "AAAAAFZpZGVvSGFuZGxlcgAAAAJfbWluZgAAABR2bWhkAAAAAQAAAAAAAAAAAAAAJGRpbmYAAAAc\n",
              "ZHJlZgAAAAAAAAABAAAADHVybCAAAAABAAACH3N0YmwAAAC3c3RzZAAAAAAAAAABAAAAp2F2YzEA\n",
              "AAAAAAAAAQAAAAAAAAAAAAAAAAAAAAACgAHgAEgAAABIAAAAAAAAAAEAAAAAAAAAAAAAAAAAAAAA\n",
              "AAAAAAAAAAAAAAAAAAAAAAAY//8AAAA1YXZjQwFkABb/4QAYZ2QAFqzZQKA9oQAAAwACAAADAAIP\n",
              "Fi2WAQAGaOvjyyLA/fj4AAAAABx1dWlka2hA8l8kT8W6OaUbzwMj8wAAAAAAAAAYc3R0cwAAAAAA\n",
              "AAABAAAAFAAAgAAAAAAUc3RzcwAAAAAAAAABAAAAAQAAAKBjdHRzAAAAAAAAABIAAAACAAEAAAAA\n",
              "AAEAAYAAAAAAAQAAgAAAAAABAAIAAAAAAAIAAIAAAAAAAQACgAAAAAABAAEAAAAAAAEAAAAAAAAA\n",
              "AQAAgAAAAAABAAKAAAAAAAEAAQAAAAAAAQAAAAAAAAABAACAAAAAAAEAAoAAAAAAAQABAAAAAAAB\n",
              "AAAAAAAAAAEAAIAAAAAAAQABAAAAAAAcc3RzYwAAAAAAAAABAAAAAQAAABQAAAABAAAAZHN0c3oA\n",
              "AAAAAAAAAAAAABQAAAs3AAABCQAAANkAAAAwAAABMwAAAEsAAABMAAABYwAAAEEAAAAwAAAAMgAA\n",
              "AUYAAABsAAAAOgAAAD8AAADhAAAAdwAAADgAAAA/AAAAbAAAABRzdGNvAAAAAAAAAAEAAAAwAAAA\n",
              "YnVkdGEAAABabWV0YQAAAAAAAAAhaGRscgAAAAAAAAAAbWRpcmFwcGwAAAAAAAAAAAAAAAAtaWxz\n",
              "dAAAACWpdG9vAAAAHWRhdGEAAAABAAAAAExhdmY1OC43Ni4xMDA=\n",
              "\">\n",
              "  Your browser does not support the video tag.\n",
              "</video>"
            ]
          },
          "metadata": {},
          "execution_count": 27
        }
      ]
    },
    {
      "cell_type": "code",
      "source": [],
      "metadata": {
        "id": "53C9objhJ6SW"
      },
      "execution_count": null,
      "outputs": []
    }
  ]
}